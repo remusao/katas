{
 "cells": [
  {
   "cell_type": "code",
   "execution_count": 1,
   "metadata": {
    "collapsed": true
   },
   "outputs": [],
   "source": [
    "import numpy as np"
   ]
  },
  {
   "cell_type": "code",
   "execution_count": 2,
   "metadata": {
    "collapsed": true
   },
   "outputs": [],
   "source": [
    "import pylab as pl"
   ]
  },
  {
   "cell_type": "code",
   "execution_count": 3,
   "metadata": {
    "collapsed": true
   },
   "outputs": [],
   "source": [
    "%matplotlib inline"
   ]
  },
  {
   "cell_type": "code",
   "execution_count": 4,
   "metadata": {
    "collapsed": true
   },
   "outputs": [],
   "source": [
    "lines = open('test_round.in').readlines()"
   ]
  },
  {
   "cell_type": "code",
   "execution_count": 5,
   "metadata": {
    "collapsed": false
   },
   "outputs": [
    {
     "data": {
      "text/plain": [
       "'180 60 3 12\\n'"
      ]
     },
     "execution_count": 5,
     "metadata": {},
     "output_type": "execute_result"
    }
   ],
   "source": [
    "lines[0]"
   ]
  },
  {
   "cell_type": "code",
   "execution_count": 6,
   "metadata": {
    "collapsed": false
   },
   "outputs": [
    {
     "name": "stdout",
     "output_type": "stream",
     "text": [
      "LICENSE               Makefile              \u001b[34mdocs\u001b[m\u001b[m                  hashcode.ipynb        setup.py              test-requirements.txt tox.ini\r\n",
      "MANIFEST.in           README.md             \u001b[34mhashcode\u001b[m\u001b[m              requirements.txt      \u001b[34mtest\u001b[m\u001b[m                  test_round.in\r\n"
     ]
    }
   ],
   "source": [
    "!ls"
   ]
  },
  {
   "cell_type": "code",
   "execution_count": 7,
   "metadata": {
    "collapsed": true
   },
   "outputs": [],
   "source": [
    "import pdb"
   ]
  },
  {
   "cell_type": "code",
   "execution_count": 8,
   "metadata": {
    "collapsed": true
   },
   "outputs": [],
   "source": [
    "def load_data():\n",
    "    lines = open('test_round.in').readlines()\n",
    "    R, C, H, S = map(int, lines[0].strip().split(' '))\n",
    "    arr = np.loadtxt('test_round.in', usecols=range(0), skiprows=1, dtype=str)\n",
    "    mat = np.zeros((R, C))\n",
    "    for r in range(arr.size):\n",
    "        for c in range(len(arr[r])):\n",
    "            #pdb.set_trace()\n",
    "            if arr[r][c] == 'H':\n",
    "                mat[r, c] = 1\n",
    "            else:\n",
    "                mat[r, c] = 0\n",
    "    \n",
    "    return (R, C, H, S, mat)"
   ]
  },
  {
   "cell_type": "code",
   "execution_count": 9,
   "metadata": {
    "collapsed": false
   },
   "outputs": [
    {
     "data": {
      "text/plain": [
       "(180, 60, 3, 12)"
      ]
     },
     "execution_count": 9,
     "metadata": {},
     "output_type": "execute_result"
    }
   ],
   "source": [
    "(R, C, H, S, mat) = load_data()\n",
    "(R, C, H, S)"
   ]
  },
  {
   "cell_type": "code",
   "execution_count": 10,
   "metadata": {
    "collapsed": false
   },
   "outputs": [
    {
     "data": {
      "text/plain": [
       "<matplotlib.image.AxesImage at 0x1063b6410>"
      ]
     },
     "execution_count": 10,
     "metadata": {},
     "output_type": "execute_result"
    },
    {
     "data": {
      "image/png": "[encoded data removed]",
      "text/plain": [
       "<matplotlib.figure.Figure at 0x1062afa10>"
      ]
     },
     "metadata": {},
     "output_type": "display_data"
    }
   ],
   "source": [
    "pl.figure(figsize=(10, 10))\n",
    "pl.imshow(mat, interpolation='nearest')"
   ]
  },
  {
   "cell_type": "markdown",
   "metadata": {
    "collapsed": true
   },
   "source": [
    "Quelques stats"
   ]
  },
  {
   "cell_type": "code",
   "execution_count": 12,
   "metadata": {
    "collapsed": false
   },
   "outputs": [
    {
     "data": {
      "text/plain": [
       "2669"
      ]
     },
     "execution_count": 12,
     "metadata": {},
     "output_type": "execute_result"
    }
   ],
   "source": [
    "np.count_nonzero(mat == 1)"
   ]
  },
  {
   "cell_type": "code",
   "execution_count": 13,
   "metadata": {
    "collapsed": false
   },
   "outputs": [
    {
     "data": {
      "text/plain": [
       "8131"
      ]
     },
     "execution_count": 13,
     "metadata": {},
     "output_type": "execute_result"
    }
   ],
   "source": [
    "np.count_nonzero(mat == 0)"
   ]
  },
  {
   "cell_type": "code",
   "execution_count": 14,
   "metadata": {
    "collapsed": false
   },
   "outputs": [
    {
     "data": {
      "text/plain": [
       "10800"
      ]
     },
     "execution_count": 14,
     "metadata": {},
     "output_type": "execute_result"
    }
   ],
   "source": [
    "180 * 60"
   ]
  },
  {
   "cell_type": "code",
   "execution_count": 15,
   "metadata": {
    "collapsed": false
   },
   "outputs": [
    {
     "data": {
      "text/plain": [
       "array([ 40.,  45.,  52.,  39.,  48.,  40.,  41.,  43.,  55.,  42.,  47.,\n",
       "        49.,  43.,  38.,  41.,  40.,  46.,  51.,  40.,  46.,  51.,  44.,\n",
       "        33.,  36.,  37.,  59.,  44.,  37.,  49.,  44.,  39.,  42.,  41.,\n",
       "        41.,  45.,  50.,  40.,  44.,  48.,  39.,  42.,  48.,  41.,  56.,\n",
       "        51.,  40.,  46.,  49.,  43.,  37.,  41.,  47.,  52.,  47.,  42.,\n",
       "        52.,  47.,  50.,  44.,  45.])"
      ]
     },
     "execution_count": 15,
     "metadata": {},
     "output_type": "execute_result"
    }
   ],
   "source": [
    "np.sum(mat, 0)"
   ]
  },
  {
   "cell_type": "code",
   "execution_count": 16,
   "metadata": {
    "collapsed": false
   },
   "outputs": [
    {
     "data": {
      "text/plain": [
       "array([ 20.,  13.,  20.,  16.,  15.,  15.,  12.,  13.,  20.,  12.,  19.,\n",
       "        14.,  11.,   7.,  13.,   7.,  18.,  20.,  15.,  17.,  12.,  15.,\n",
       "        13.,  15.,  11.,  12.,  12.,  13.,  11.,  13.,  14.,  21.,  13.,\n",
       "        15.,  11.,  16.,  15.,  16.,   7.,  18.,  17.,  11.,  19.,  14.,\n",
       "        14.,  16.,  19.,  18.,  16.,  18.,  20.,   9.,  15.,  11.,  11.,\n",
       "        16.,  20.,  16.,  18.,  11.,  10.,  15.,  14.,  12.,  13.,  19.,\n",
       "        16.,  17.,  13.,  17.,  14.,  19.,  10.,  15.,  20.,  18.,  12.,\n",
       "        19.,  20.,  16.,  12.,  10.,  18.,  11.,  10.,  16.,  11.,  15.,\n",
       "        11.,  18.,  15.,  12.,  19.,  18.,  17.,  12.,  15.,  16.,  11.,\n",
       "        17.,  16.,  25.,  16.,  12.,  11.,  16.,  11.,  10.,  14.,  13.,\n",
       "        16.,  17.,  18.,  10.,  18.,  14.,  12.,  13.,  18.,  13.,  13.,\n",
       "        15.,  18.,  20.,  17.,  14.,  12.,  18.,  19.,  19.,  11.,  18.,\n",
       "         8.,  15.,  14.,  14.,  12.,  14.,  17.,  15.,  10.,  19.,  19.,\n",
       "        16.,  17.,  20.,  23.,  13.,  15.,  18.,  15.,  12.,  15.,  13.,\n",
       "        14.,  19.,  10.,  15.,  18.,  18.,  17.,  10.,  12.,  18.,  10.,\n",
       "        15.,  16.,  17.,  16.,  18.,  12.,  13.,  10.,  13.,  13.,  19.,\n",
       "        17.,  13.,  12.,  11.])"
      ]
     },
     "execution_count": 16,
     "metadata": {},
     "output_type": "execute_result"
    }
   ],
   "source": [
    "np.sum(mat, 1)"
   ]
  },
  {
   "cell_type": "code",
   "execution_count": 26,
   "metadata": {
    "collapsed": false
   },
   "outputs": [
    {
     "data": {
      "image/png": "[encoded data removed]",
      "text/plain": [
       "<matplotlib.figure.Figure at 0x106eab610>"
      ]
     },
     "metadata": {},
     "output_type": "display_data"
    }
   ],
   "source": [
    "pl.figure(figsize=(8, 7))\n",
    "pl.subplot(221)\n",
    "pl.plot(np.sum(mat, 0))\n",
    "pl.subplot(223)\n",
    "pl.imshow(mat, interpolation='nearest', aspect='auto')\n",
    "pl.subplot(224)\n",
    "pl.plot(np.sum(mat, 1), np.arange(180))\n",
    "pl.tight_layout()"
   ]
  },
  {
   "cell_type": "code",
   "execution_count": 37,
   "metadata": {
    "collapsed": true
   },
   "outputs": [],
   "source": [
    "def write_output(output_filename, \n",
    "                 tuple_list):\n",
    "    with open(output_filename, 'w') as f:\n",
    "        # première ligne\n",
    "        f.write(str(len(tuple_list)) + '\\n')\n",
    "        for t in tuple_list:\n",
    "            f.write(\"{0} {1} {2} {3}\\n\".format(*t))\n",
    "    \n",
    "    "
   ]
  },
  {
   "cell_type": "code",
   "execution_count": 38,
   "metadata": {
    "collapsed": false
   },
   "outputs": [],
   "source": [
    "write_output('test_output.csv', ((0, 0, 2, 1), (0, 2, 2, 2), (0, 3, 2, 4)))"
   ]
  },
  {
   "cell_type": "code",
   "execution_count": 39,
   "metadata": {
    "collapsed": false
   },
   "outputs": [
    {
     "name": "stdout",
     "output_type": "stream",
     "text": [
      "3\r\n",
      "0 0 2 1\r\n",
      "0 2 2 2\r\n",
      "0 3 2 4\r\n"
     ]
    }
   ],
   "source": [
    "!cat test_output.csv"
   ]
  },
  {
   "cell_type": "code",
   "execution_count": null,
   "metadata": {
    "collapsed": true
   },
   "outputs": [],
   "source": []
  }
 ],
 "metadata": {
  "kernelspec": {
   "display_name": "Python 2",
   "language": "python",
   "name": "python2"
  },
  "language_info": {
   "codemirror_mode": {
    "name": "ipython",
    "version": 2
   },
   "file_extension": ".py",
   "mimetype": "text/x-python",
   "name": "python",
   "nbconvert_exporter": "python",
   "pygments_lexer": "ipython2",
   "version": "2.7.6"
  }
 },
 "nbformat": 4,
 "nbformat_minor": 0
}
